{
  "nbformat": 4,
  "nbformat_minor": 0,
  "metadata": {
    "colab": {
      "name": "Text-Tensorflow-Keras.ipynb",
      "version": "0.3.2",
      "provenance": [],
      "collapsed_sections": [],
      "include_colab_link": true
    },
    "kernelspec": {
      "name": "python3",
      "display_name": "Python 3"
    }
  },
  "cells": [
    {
      "cell_type": "markdown",
      "metadata": {
        "id": "view-in-github",
        "colab_type": "text"
      },
      "source": [
        "<a href=\"https://colab.research.google.com/github/ndbellew/KompyuterM3chakrs/blob/master/Tensorflow-Keras/Text_Tensorflow_Keras.ipynb\" target=\"_parent\"><img src=\"https://colab.research.google.com/assets/colab-badge.svg\" alt=\"Open In Colab\"/></a>"
      ]
    },
    {
      "cell_type": "markdown",
      "metadata": {
        "id": "LA0-6JkpPo5E",
        "colab_type": "text"
      },
      "source": [
        "# Text Classification with Movie Reviews\n",
        " Tutorial 2 in [Tensorflow Keras Tutorial](https://www.tensorflow.org/tutorials/keras/basic_text_classification)\n",
        " \n",
        "__tensor__ - a mathematicl object represented by an array of components that are functions of the coordinates of some space."
      ]
    },
    {
      "cell_type": "markdown",
      "metadata": {
        "id": "fN5fL0aQQDBv",
        "colab_type": "text"
      },
      "source": [
        "## Important Files Needed"
      ]
    },
    {
      "cell_type": "code",
      "metadata": {
        "id": "UOQcty_YQCFl",
        "colab_type": "code",
        "colab": {
          "base_uri": "https://localhost:8080/",
          "height": 98
        },
        "outputId": "493bd1fe-971a-4996-f4b9-81f27d675279"
      },
      "source": [
        "!pip install -q tf_nightly"
      ],
      "execution_count": 1,
      "outputs": [
        {
          "output_type": "stream",
          "text": [
            "\u001b[K     |████████████████████████████████| 100.1MB 144kB/s \n",
            "\u001b[K     |████████████████████████████████| 3.9MB 36.2MB/s \n",
            "\u001b[K     |████████████████████████████████| 61kB 23.6MB/s \n",
            "\u001b[K     |████████████████████████████████| 501kB 40.9MB/s \n",
            "\u001b[?25h  Building wheel for opt-einsum (setup.py) ... \u001b[?25l\u001b[?25hdone\n"
          ],
          "name": "stdout"
        }
      ]
    },
    {
      "cell_type": "code",
      "metadata": {
        "id": "VtnPgk_DP9s4",
        "colab_type": "code",
        "colab": {
          "base_uri": "https://localhost:8080/",
          "height": 33
        },
        "outputId": "bedb3adb-cf73-4aeb-a974-0394cff3370f"
      },
      "source": [
        "from __future__ import absolute_import, division, print_function, unicode_literals\n",
        "\n",
        "import tensorflow as tf\n",
        "from tensorflow import keras\n",
        "\n",
        "import numpy as np\n",
        "\n",
        "print(tf.__version__)"
      ],
      "execution_count": 2,
      "outputs": [
        {
          "output_type": "stream",
          "text": [
            "1.15.0-dev20190713\n"
          ],
          "name": "stdout"
        }
      ]
    },
    {
      "cell_type": "markdown",
      "metadata": {
        "id": "TBVNDP0IQgh-",
        "colab_type": "text"
      },
      "source": [
        "## Download Dataset\n",
        "We are using the IMDB dataset that comes with TensorFlow itself. keras comes with a variety of datasets.\n"
      ]
    },
    {
      "cell_type": "code",
      "metadata": {
        "id": "34qgzds4QpPG",
        "colab_type": "code",
        "colab": {
          "base_uri": "https://localhost:8080/",
          "height": 70
        },
        "outputId": "be3349a0-9587-40d2-bfef-83dfd0ed483b"
      },
      "source": [
        "imdb = keras.datasets.imdb\n",
        "(train_data, train_labels), (test_data, test_labels) = imdb.load_data(num_words=10000)"
      ],
      "execution_count": 3,
      "outputs": [
        {
          "output_type": "stream",
          "text": [
            "Downloading data from https://storage.googleapis.com/tensorflow/tf-keras-datasets/imdb.npz\n",
            "17465344/17464789 [==============================] - 0s 0us/step\n"
          ],
          "name": "stdout"
        }
      ]
    },
    {
      "cell_type": "markdown",
      "metadata": {
        "id": "sFV577_6RG3u",
        "colab_type": "text"
      },
      "source": [
        "## Explore the Data\n",
        "Format the data "
      ]
    },
    {
      "cell_type": "code",
      "metadata": {
        "id": "gtFzv3D3RI3M",
        "colab_type": "code",
        "colab": {
          "base_uri": "https://localhost:8080/",
          "height": 33
        },
        "outputId": "e63b6abe-4ccc-4bd9-f04c-8bed39c14de4"
      },
      "source": [
        "print(\"Training entries: {}, labels: {}\".format(len(train_data), len(train_labels)))"
      ],
      "execution_count": 5,
      "outputs": [
        {
          "output_type": "stream",
          "text": [
            "Training entries: 25000, labels: 25000\n"
          ],
          "name": "stdout"
        }
      ]
    },
    {
      "cell_type": "code",
      "metadata": {
        "id": "oLKnENlTRhNi",
        "colab_type": "code",
        "colab": {
          "base_uri": "https://localhost:8080/",
          "height": 53
        },
        "outputId": "ceea98bd-0afe-436a-cecf-9e2ff2aeeabf"
      },
      "source": [
        "print(train_data[0])\n"
      ],
      "execution_count": 7,
      "outputs": [
        {
          "output_type": "stream",
          "text": [
            "[1, 14, 22, 16, 43, 530, 973, 1622, 1385, 65, 458, 4468, 66, 3941, 4, 173, 36, 256, 5, 25, 100, 43, 838, 112, 50, 670, 2, 9, 35, 480, 284, 5, 150, 4, 172, 112, 167, 2, 336, 385, 39, 4, 172, 4536, 1111, 17, 546, 38, 13, 447, 4, 192, 50, 16, 6, 147, 2025, 19, 14, 22, 4, 1920, 4613, 469, 4, 22, 71, 87, 12, 16, 43, 530, 38, 76, 15, 13, 1247, 4, 22, 17, 515, 17, 12, 16, 626, 18, 2, 5, 62, 386, 12, 8, 316, 8, 106, 5, 4, 2223, 5244, 16, 480, 66, 3785, 33, 4, 130, 12, 16, 38, 619, 5, 25, 124, 51, 36, 135, 48, 25, 1415, 33, 6, 22, 12, 215, 28, 77, 52, 5, 14, 407, 16, 82, 2, 8, 4, 107, 117, 5952, 15, 256, 4, 2, 7, 3766, 5, 723, 36, 71, 43, 530, 476, 26, 400, 317, 46, 7, 4, 2, 1029, 13, 104, 88, 4, 381, 15, 297, 98, 32, 2071, 56, 26, 141, 6, 194, 7486, 18, 4, 226, 22, 21, 134, 476, 26, 480, 5, 144, 30, 5535, 18, 51, 36, 28, 224, 92, 25, 104, 4, 226, 65, 16, 38, 1334, 88, 12, 16, 283, 5, 16, 4472, 113, 103, 32, 15, 16, 5345, 19, 178, 32]\n"
          ],
          "name": "stdout"
        }
      ]
    },
    {
      "cell_type": "code",
      "metadata": {
        "id": "KjmhollIRmEZ",
        "colab_type": "code",
        "colab": {
          "base_uri": "https://localhost:8080/",
          "height": 33
        },
        "outputId": "a6615b17-6d6c-4e0b-8685-92934d005332"
      },
      "source": [
        "len(train_data[0]), len(train_data[1])"
      ],
      "execution_count": 8,
      "outputs": [
        {
          "output_type": "execute_result",
          "data": {
            "text/plain": [
              "(218, 189)"
            ]
          },
          "metadata": {
            "tags": []
          },
          "execution_count": 8
        }
      ]
    },
    {
      "cell_type": "markdown",
      "metadata": {
        "id": "4-qLX8I3Rtte",
        "colab_type": "text"
      },
      "source": [
        "## Convert the Integers Back to Words\n",
        "What do these numbers mean? What are we computers? lets make these words so we atleast know what is kind of happening."
      ]
    },
    {
      "cell_type": "code",
      "metadata": {
        "id": "dBymK9O_SEw6",
        "colab_type": "code",
        "colab": {
          "base_uri": "https://localhost:8080/",
          "height": 70
        },
        "outputId": "2fc49c6b-532d-41ac-e030-37ac30ed2a4e"
      },
      "source": [
        "# A dictionary mapping words to an integer index\n",
        "word_index = imdb.get_word_index()\n",
        "\n",
        "# The first indices are reserved\n",
        "word_index = {k:(v+3) for k,v in word_index.items()}\n",
        "word_index[\"<PAD>\"] = 0\n",
        "word_index[\"<START>\"] = 1\n",
        "word_index[\"<UNK>\"] = 2  # unknown\n",
        "word_index[\"<UNUSED>\"] = 3\n",
        "\n",
        "reverse_word_index = dict([(value, key) for (key, value) in word_index.items()])\n",
        "\n",
        "def decode_review(text):\n",
        "    return ' '.join([reverse_word_index.get(i, '?') for i in text])"
      ],
      "execution_count": 9,
      "outputs": [
        {
          "output_type": "stream",
          "text": [
            "Downloading data from https://storage.googleapis.com/tensorflow/tf-keras-datasets/imdb_word_index.json\n",
            "1646592/1641221 [==============================] - 0s 0us/step\n"
          ],
          "name": "stdout"
        }
      ]
    },
    {
      "cell_type": "code",
      "metadata": {
        "id": "3MWyEp4cSd1F",
        "colab_type": "code",
        "colab": {
          "base_uri": "https://localhost:8080/",
          "height": 53
        },
        "outputId": "7c171e8e-8538-48ba-b1c4-b716c1d3f43f"
      },
      "source": [
        "# Decode_review function is used to display the text for each review.\n",
        "decode_review(train_data[0])# first review\n"
      ],
      "execution_count": 10,
      "outputs": [
        {
          "output_type": "execute_result",
          "data": {
            "text/plain": [
              "\"<START> this film was just brilliant casting location scenery story direction everyone's really suited the part they played and you could just imagine being there robert <UNK> is an amazing actor and now the same being director <UNK> father came from the same scottish island as myself so i loved the fact there was a real connection with this film the witty remarks throughout the film were great it was just brilliant so much that i bought the film as soon as it was released for <UNK> and would recommend it to everyone to watch and the fly fishing was amazing really cried at the end it was so sad and you know what they say if you cry at a film it must have been good and this definitely was also <UNK> to the two little boy's that played the <UNK> of norman and paul they were just brilliant children are often left out of the <UNK> list i think because the stars that play them all grown up are such a big profile for the whole film but these children are amazing and should be praised for what they have done don't you think the whole story was so lovely because it was true and was someone's life after all that was shared with us all\""
            ]
          },
          "metadata": {
            "tags": []
          },
          "execution_count": 10
        }
      ]
    },
    {
      "cell_type": "markdown",
      "metadata": {
        "id": "_jKcCPGkSpuz",
        "colab_type": "text"
      },
      "source": [
        "## Prepare the Data\n",
        "Each review is stored as an array of integers, and must be converted to tensors before fed into the neural network. \n",
        "There are two ways to convert\n",
        "\n",
        "1. Convert the Arrays into vectors of 0s and 1s indicating word occurrence, similar to a one-hot encoding.\n",
        "1. Pad the arrays so they all have the same length, then create an integer tensor of a the shape *max_length * num_reviews* This can be doen with an embedded layer capable of handlign the shape as the first layer in our network.\n",
        "\n",
        "This Tutorial will use the padding option of the approach.\n",
        "\n",
        "From here we will use pad_sequences\n"
      ]
    },
    {
      "cell_type": "code",
      "metadata": {
        "id": "bmBDOJHuSmZg",
        "colab_type": "code",
        "colab": {}
      },
      "source": [
        "# remember to always setup train_data and test_data\n",
        "train_data = keras.preprocessing.sequence.pad_sequences(train_data,\n",
        "                                                        value=word_index[\"<PAD>\"],\n",
        "                                                        padding='post',\n",
        "                                                        maxlen=256)\n",
        "\n",
        "test_data = keras.preprocessing.sequence.pad_sequences(test_data,\n",
        "                                                       value=word_index[\"<PAD>\"],\n",
        "                                                       padding='post',\n",
        "                                                       maxlen=256)"
      ],
      "execution_count": 0,
      "outputs": []
    },
    {
      "cell_type": "code",
      "metadata": {
        "id": "noOWI--4UF4o",
        "colab_type": "code",
        "colab": {
          "base_uri": "https://localhost:8080/",
          "height": 33
        },
        "outputId": "5516958b-184e-43a5-8249-dce410c37802"
      },
      "source": [
        "# the prior lengths that was run above was (218, 189) but now\n",
        "len(train_data[0]), len(train_data[1])"
      ],
      "execution_count": 14,
      "outputs": [
        {
          "output_type": "execute_result",
          "data": {
            "text/plain": [
              "(256, 256)"
            ]
          },
          "metadata": {
            "tags": []
          },
          "execution_count": 14
        }
      ]
    },
    {
      "cell_type": "code",
      "metadata": {
        "id": "x29e9n4BUXG6",
        "colab_type": "code",
        "colab": {
          "base_uri": "https://localhost:8080/",
          "height": 326
        },
        "outputId": "afe72bb7-be7b-4dc3-85ab-9fc5ee055afc"
      },
      "source": [
        "# the now padded first review looks like\n",
        "print(train_data[0])\n"
      ],
      "execution_count": 15,
      "outputs": [
        {
          "output_type": "stream",
          "text": [
            "[   1   14   22   16   43  530  973 1622 1385   65  458 4468   66 3941\n",
            "    4  173   36  256    5   25  100   43  838  112   50  670    2    9\n",
            "   35  480  284    5  150    4  172  112  167    2  336  385   39    4\n",
            "  172 4536 1111   17  546   38   13  447    4  192   50   16    6  147\n",
            " 2025   19   14   22    4 1920 4613  469    4   22   71   87   12   16\n",
            "   43  530   38   76   15   13 1247    4   22   17  515   17   12   16\n",
            "  626   18    2    5   62  386   12    8  316    8  106    5    4 2223\n",
            " 5244   16  480   66 3785   33    4  130   12   16   38  619    5   25\n",
            "  124   51   36  135   48   25 1415   33    6   22   12  215   28   77\n",
            "   52    5   14  407   16   82    2    8    4  107  117 5952   15  256\n",
            "    4    2    7 3766    5  723   36   71   43  530  476   26  400  317\n",
            "   46    7    4    2 1029   13  104   88    4  381   15  297   98   32\n",
            " 2071   56   26  141    6  194 7486   18    4  226   22   21  134  476\n",
            "   26  480    5  144   30 5535   18   51   36   28  224   92   25  104\n",
            "    4  226   65   16   38 1334   88   12   16  283    5   16 4472  113\n",
            "  103   32   15   16 5345   19  178   32    0    0    0    0    0    0\n",
            "    0    0    0    0    0    0    0    0    0    0    0    0    0    0\n",
            "    0    0    0    0    0    0    0    0    0    0    0    0    0    0\n",
            "    0    0    0    0]\n"
          ],
          "name": "stdout"
        }
      ]
    },
    {
      "cell_type": "markdown",
      "metadata": {
        "id": "ptEfbw20UkWn",
        "colab_type": "text"
      },
      "source": [
        "Even though it is the exact same, the padding ensures a better form of readability for humans, TensorFlow will read through regardless of how we want to read it. "
      ]
    },
    {
      "cell_type": "markdown",
      "metadata": {
        "id": "LWWjQ3bjUstv",
        "colab_type": "text"
      },
      "source": [
        "## Build the Model\n",
        "Each neural network is created by stacking layers which requires two main architectural decisions\n",
        "\n",
        "* How many layers to use in the model?\n",
        "* How many _hidden units_ to use for each layer."
      ]
    },
    {
      "cell_type": "code",
      "metadata": {
        "id": "38TF2HD-Uee3",
        "colab_type": "code",
        "colab": {
          "base_uri": "https://localhost:8080/",
          "height": 411
        },
        "outputId": "b27fc088-2325-4b8e-ae79-3c036ba5d057"
      },
      "source": [
        "# input shape is the vocabulary count used for the movie reviews (10,000 words)\n",
        "vocab_size = 10000\n",
        "\n",
        "model = keras.Sequential()\n",
        "model.add(keras.layers.Embedding(vocab_size, 16))\n",
        "model.add(keras.layers.GlobalAveragePooling1D())\n",
        "model.add(keras.layers.Dense(16, activation=tf.nn.relu))\n",
        "model.add(keras.layers.Dense(1, activation=tf.nn.sigmoid))\n",
        "\n",
        "model.summary()"
      ],
      "execution_count": 16,
      "outputs": [
        {
          "output_type": "stream",
          "text": [
            "WARNING: Logging before flag parsing goes to stderr.\n",
            "W0713 17:15:52.135211 140566998919040 deprecation.py:506] From /usr/local/lib/python3.6/dist-packages/tensorflow_core/python/keras/initializers.py:119: calling RandomUniform.__init__ (from tensorflow.python.ops.init_ops) with dtype is deprecated and will be removed in a future version.\n",
            "Instructions for updating:\n",
            "Call initializer instance with the dtype argument instead of passing it to the constructor\n",
            "W0713 17:15:52.160843 140566998919040 deprecation.py:506] From /usr/local/lib/python3.6/dist-packages/tensorflow_core/python/ops/resource_variable_ops.py:1628: calling BaseResourceVariable.__init__ (from tensorflow.python.ops.resource_variable_ops) with constraint is deprecated and will be removed in a future version.\n",
            "Instructions for updating:\n",
            "If using Keras pass *_constraint arguments to layers.\n"
          ],
          "name": "stderr"
        },
        {
          "output_type": "stream",
          "text": [
            "Model: \"sequential\"\n",
            "_________________________________________________________________\n",
            "Layer (type)                 Output Shape              Param #   \n",
            "=================================================================\n",
            "embedding (Embedding)        (None, None, 16)          160000    \n",
            "_________________________________________________________________\n",
            "global_average_pooling1d (Gl (None, 16)                0         \n",
            "_________________________________________________________________\n",
            "dense (Dense)                (None, 16)                272       \n",
            "_________________________________________________________________\n",
            "dense_1 (Dense)              (None, 1)                 17        \n",
            "=================================================================\n",
            "Total params: 160,289\n",
            "Trainable params: 160,289\n",
            "Non-trainable params: 0\n",
            "_________________________________________________________________\n"
          ],
          "name": "stdout"
        }
      ]
    },
    {
      "cell_type": "markdown",
      "metadata": {
        "id": "RDfV3J-IVg1q",
        "colab_type": "text"
      },
      "source": [
        "### Notation - Layers\n",
        "The layers are stacked sequentially to build the classifier. There are 4 Layers seen here.\n",
        "\n",
        "1. The first layer is an __Embedding__ layer. This layer translates the integer-encoded vocabulary to the corresponding embedding vector for each word-index. These vectors are learned throughout the model training. The vectors add a dimension to the output array. The 3 resuliting dimensions are the __(batch, sequence, embedding)__. \n",
        "1. The next layer is the __GlobalAveragePooling1D__ layer, which returns a fixed-length output vector for each example. This is down by averaging over teh sequence dimension which will allow the model to handle input of variable length while maintaining simplicity.\n",
        "1.  The Next layer added (model.add(keras.layers.Dense(16, activation=tf.nn.relu))) is the fixed-length output vecotr which is piped through a fully-connected __Dense__ layer containing 16 _hidden units_\n",
        "1. The final layer is another __Dense__ layer that is connected with a single output node. It uses the __sigmoid__ activation function, which contains a value between 0 and 1 that represnets the probability or confidence level.\n",
        "\n",
        "#### Hidden Units\n",
        "What are Hidden Units? Where are THEY HIDING???\n",
        "Our model has two indermediate layers also called _hidden layers_, between the input and output. The number of outputs (the units, nodes, or neurons) is the dimension of the repsentational space for the layer. to put it simply, the amount of freedm the network is allowed when learning an internal representation. -- if that is simple for you.\n",
        "\n",
        "Essentially the more hidden units a model has and/or the more layers, then the network can learn more complex representations. That said, it makes the network more computationally expensive and may lead to unwanted patterns -- Patterns that imporve performance on training data but not for the test data, this is known as _overfitting_. \n",
        "\n",
        "The trade off we have is time and accuracy vs. complexity.\n",
        "\n",
        "##### Loss function and Optimizer\n",
        "\n",
        "Models generally need the loss function and an optimizer for training. Because we are using a binary classification problem and the model outputs some probability (a single-unit layer with a __sigmoid__ activation), we will use the __binary_crossentropy__ loss function. \n",
        "\n",
        "Obvious choice right? there are a few chocies for loss-functions, we could also choose the __mean_squared_error__ loss function. But, generally __binary_crossentropy__ is better for dealing with probabilities beacuse it measures the \"distance\" between probability distributions, or in this case, between the ground-truth distribution and the predictions.\n",
        "\n",
        "The time to look for another loss function woubld be in regression problems, say if we are to predict the price of a house, generally the price of a house is not True or False, its a range.\n",
        "\n"
      ]
    },
    {
      "cell_type": "code",
      "metadata": {
        "id": "mponj9ozY9we",
        "colab_type": "code",
        "colab": {}
      },
      "source": [
        "# Now to configure the model to use an optimizer and loss function through the compiler.\n",
        "model.compile(optimizer='adam',\n",
        "              loss='binary_crossentropy',\n",
        "              metrics=['acc'])"
      ],
      "execution_count": 0,
      "outputs": []
    },
    {
      "cell_type": "markdown",
      "metadata": {
        "id": "R2kFkePDZGvF",
        "colab_type": "text"
      },
      "source": [
        "## Create a Validation Set\n",
        "A validation set is used to check the accuracy of the model, if it doesn't know it fails, then how will it learn? The goal is to develop and tune our training model  so that we only need to use the test data once to evaluate our accuracy."
      ]
    },
    {
      "cell_type": "code",
      "metadata": {
        "id": "wJO04w_6ZGK2",
        "colab_type": "code",
        "colab": {}
      },
      "source": [
        "x_val = train_data[:10000]\n",
        "partial_x_train = train_data[10000:]\n",
        "\n",
        "y_val = train_labels[:10000]\n",
        "partial_y_train = train_labels[10000:]"
      ],
      "execution_count": 0,
      "outputs": []
    },
    {
      "cell_type": "markdown",
      "metadata": {
        "id": "UUOn7RJoaJuz",
        "colab_type": "text"
      },
      "source": [
        "## Train the Model\n",
        "Everyone's favorite part. For this one we will be using about 40 epochs in mini-batches of 512 samples. An epoch in this instance is an iteration over all samples in the __x_train__ and __y_train__. while training we need to monitor the model's loss and accuracy on the 10k samples from the validation set.\n"
      ]
    },
    {
      "cell_type": "code",
      "metadata": {
        "id": "Ps7VkmVWaIQq",
        "colab_type": "code",
        "colab": {
          "base_uri": "https://localhost:8080/",
          "height": 1000
        },
        "outputId": "a34cd5cc-6949-4a4a-c3f5-cb50de218220"
      },
      "source": [
        "history = model.fit(partial_x_train,\n",
        "                    partial_y_train,\n",
        "                    epochs=40,\n",
        "                    batch_size=512,\n",
        "                    validation_data=(x_val, y_val),\n",
        "                    verbose=1)"
      ],
      "execution_count": 20,
      "outputs": [
        {
          "output_type": "stream",
          "text": [
            "W0713 17:39:11.998254 140566998919040 deprecation.py:323] From /usr/local/lib/python3.6/dist-packages/tensorflow_core/python/keras/optimizer_v2/optimizer_v2.py:454: BaseResourceVariable.constraint (from tensorflow.python.ops.resource_variable_ops) is deprecated and will be removed in a future version.\n",
            "Instructions for updating:\n",
            "Apply a constraint manually following the optimizer update step.\n"
          ],
          "name": "stderr"
        },
        {
          "output_type": "stream",
          "text": [
            "Train on 15000 samples, validate on 10000 samples\n",
            "Epoch 1/40\n",
            "15000/15000 [==============================] - 1s 62us/sample - loss: 0.6924 - acc: 0.5139 - val_loss: 0.6912 - val_acc: 0.5091\n",
            "Epoch 2/40\n",
            "15000/15000 [==============================] - 1s 50us/sample - loss: 0.6882 - acc: 0.6353 - val_loss: 0.6846 - val_acc: 0.7063\n",
            "Epoch 3/40\n",
            "15000/15000 [==============================] - 1s 49us/sample - loss: 0.6765 - acc: 0.7497 - val_loss: 0.6689 - val_acc: 0.7553\n",
            "Epoch 4/40\n",
            "15000/15000 [==============================] - 1s 50us/sample - loss: 0.6543 - acc: 0.7559 - val_loss: 0.6428 - val_acc: 0.7606\n",
            "Epoch 5/40\n",
            "15000/15000 [==============================] - 1s 50us/sample - loss: 0.6200 - acc: 0.7882 - val_loss: 0.6064 - val_acc: 0.7846\n",
            "Epoch 6/40\n",
            "15000/15000 [==============================] - 1s 50us/sample - loss: 0.5756 - acc: 0.8121 - val_loss: 0.5633 - val_acc: 0.8026\n",
            "Epoch 7/40\n",
            "15000/15000 [==============================] - 1s 49us/sample - loss: 0.5255 - acc: 0.8274 - val_loss: 0.5163 - val_acc: 0.8206\n",
            "Epoch 8/40\n",
            "15000/15000 [==============================] - 1s 49us/sample - loss: 0.4756 - acc: 0.8469 - val_loss: 0.4734 - val_acc: 0.8346\n",
            "Epoch 9/40\n",
            "15000/15000 [==============================] - 1s 49us/sample - loss: 0.4299 - acc: 0.8611 - val_loss: 0.4354 - val_acc: 0.8450\n",
            "Epoch 10/40\n",
            "15000/15000 [==============================] - 1s 48us/sample - loss: 0.3901 - acc: 0.8743 - val_loss: 0.4047 - val_acc: 0.8511\n",
            "Epoch 11/40\n",
            "15000/15000 [==============================] - 1s 48us/sample - loss: 0.3570 - acc: 0.8826 - val_loss: 0.3798 - val_acc: 0.8594\n",
            "Epoch 12/40\n",
            "15000/15000 [==============================] - 1s 48us/sample - loss: 0.3294 - acc: 0.8901 - val_loss: 0.3609 - val_acc: 0.8635\n",
            "Epoch 13/40\n",
            "15000/15000 [==============================] - 1s 50us/sample - loss: 0.3070 - acc: 0.8966 - val_loss: 0.3445 - val_acc: 0.8692\n",
            "Epoch 14/40\n",
            "15000/15000 [==============================] - 1s 48us/sample - loss: 0.2869 - acc: 0.9017 - val_loss: 0.3326 - val_acc: 0.8725\n",
            "Epoch 15/40\n",
            "15000/15000 [==============================] - 1s 49us/sample - loss: 0.2701 - acc: 0.9077 - val_loss: 0.3228 - val_acc: 0.8745\n",
            "Epoch 16/40\n",
            "15000/15000 [==============================] - 1s 47us/sample - loss: 0.2551 - acc: 0.9120 - val_loss: 0.3147 - val_acc: 0.8748\n",
            "Epoch 17/40\n",
            "15000/15000 [==============================] - 1s 50us/sample - loss: 0.2412 - acc: 0.9172 - val_loss: 0.3080 - val_acc: 0.8782\n",
            "Epoch 18/40\n",
            "15000/15000 [==============================] - 1s 47us/sample - loss: 0.2290 - acc: 0.9215 - val_loss: 0.3023 - val_acc: 0.8806\n",
            "Epoch 19/40\n",
            "15000/15000 [==============================] - 1s 48us/sample - loss: 0.2179 - acc: 0.9240 - val_loss: 0.2976 - val_acc: 0.8819\n",
            "Epoch 20/40\n",
            "15000/15000 [==============================] - 1s 48us/sample - loss: 0.2079 - acc: 0.9280 - val_loss: 0.2944 - val_acc: 0.8820\n",
            "Epoch 21/40\n",
            "15000/15000 [==============================] - 1s 50us/sample - loss: 0.1977 - acc: 0.9335 - val_loss: 0.2917 - val_acc: 0.8833\n",
            "Epoch 22/40\n",
            "15000/15000 [==============================] - 1s 48us/sample - loss: 0.1892 - acc: 0.9364 - val_loss: 0.2893 - val_acc: 0.8842\n",
            "Epoch 23/40\n",
            "15000/15000 [==============================] - 1s 48us/sample - loss: 0.1806 - acc: 0.9411 - val_loss: 0.2886 - val_acc: 0.8839\n",
            "Epoch 24/40\n",
            "15000/15000 [==============================] - 1s 51us/sample - loss: 0.1731 - acc: 0.9440 - val_loss: 0.2873 - val_acc: 0.8844\n",
            "Epoch 25/40\n",
            "15000/15000 [==============================] - 1s 50us/sample - loss: 0.1655 - acc: 0.9473 - val_loss: 0.2860 - val_acc: 0.8853\n",
            "Epoch 26/40\n",
            "15000/15000 [==============================] - 1s 48us/sample - loss: 0.1587 - acc: 0.9500 - val_loss: 0.2868 - val_acc: 0.8835\n",
            "Epoch 27/40\n",
            "15000/15000 [==============================] - 1s 48us/sample - loss: 0.1522 - acc: 0.9520 - val_loss: 0.2865 - val_acc: 0.8840\n",
            "Epoch 28/40\n",
            "15000/15000 [==============================] - 1s 48us/sample - loss: 0.1461 - acc: 0.9557 - val_loss: 0.2873 - val_acc: 0.8852\n",
            "Epoch 29/40\n",
            "15000/15000 [==============================] - 1s 50us/sample - loss: 0.1407 - acc: 0.9575 - val_loss: 0.2890 - val_acc: 0.8844\n",
            "Epoch 30/40\n",
            "15000/15000 [==============================] - 1s 49us/sample - loss: 0.1350 - acc: 0.9593 - val_loss: 0.2886 - val_acc: 0.8859\n",
            "Epoch 31/40\n",
            "15000/15000 [==============================] - 1s 49us/sample - loss: 0.1292 - acc: 0.9618 - val_loss: 0.2898 - val_acc: 0.8864\n",
            "Epoch 32/40\n",
            "15000/15000 [==============================] - 1s 47us/sample - loss: 0.1241 - acc: 0.9651 - val_loss: 0.2915 - val_acc: 0.8859\n",
            "Epoch 33/40\n",
            "15000/15000 [==============================] - 1s 51us/sample - loss: 0.1191 - acc: 0.9663 - val_loss: 0.2939 - val_acc: 0.8849\n",
            "Epoch 34/40\n",
            "15000/15000 [==============================] - 1s 49us/sample - loss: 0.1147 - acc: 0.9677 - val_loss: 0.2963 - val_acc: 0.8840\n",
            "Epoch 35/40\n",
            "15000/15000 [==============================] - 1s 50us/sample - loss: 0.1106 - acc: 0.9687 - val_loss: 0.2990 - val_acc: 0.8848\n",
            "Epoch 36/40\n",
            "15000/15000 [==============================] - 1s 49us/sample - loss: 0.1061 - acc: 0.9713 - val_loss: 0.3009 - val_acc: 0.8839\n",
            "Epoch 37/40\n",
            "15000/15000 [==============================] - 1s 50us/sample - loss: 0.1018 - acc: 0.9725 - val_loss: 0.3037 - val_acc: 0.8833\n",
            "Epoch 38/40\n",
            "15000/15000 [==============================] - 1s 50us/sample - loss: 0.0979 - acc: 0.9738 - val_loss: 0.3075 - val_acc: 0.8822\n",
            "Epoch 39/40\n",
            "15000/15000 [==============================] - 1s 50us/sample - loss: 0.0947 - acc: 0.9749 - val_loss: 0.3114 - val_acc: 0.8817\n",
            "Epoch 40/40\n",
            "15000/15000 [==============================] - 1s 50us/sample - loss: 0.0906 - acc: 0.9769 - val_loss: 0.3145 - val_acc: 0.8820\n"
          ],
          "name": "stdout"
        }
      ]
    },
    {
      "cell_type": "markdown",
      "metadata": {
        "id": "jVxJUaoqa2WZ",
        "colab_type": "text"
      },
      "source": [
        "Behold the evidence of education in our system, the loss decreases and the accuracy increases as the model spends more time learning the processes. The more epochs, the more time spent training, the more accurate it becomes. Its important to find the sweet spot where accuracy is enough where we aren't using thousands of epochs."
      ]
    },
    {
      "cell_type": "markdown",
      "metadata": {
        "id": "1EZkBfAcbJ56",
        "colab_type": "text"
      },
      "source": [
        "## Evaluate the Model\n",
        "Alright we trained our model lets see if its ready for corporate work.\n"
      ]
    },
    {
      "cell_type": "code",
      "metadata": {
        "id": "iySLB_rnatCS",
        "colab_type": "code",
        "colab": {
          "base_uri": "https://localhost:8080/",
          "height": 70
        },
        "outputId": "a1f5482f-9c7d-4ad0-f6fa-583e7df0b199"
      },
      "source": [
        "results = model.evaluate(test_data, test_labels)\n",
        "print(results)"
      ],
      "execution_count": 21,
      "outputs": [
        {
          "output_type": "stream",
          "text": [
            "25000/25000 [==============================] - 1s 39us/sample - loss: 0.3360 - acc: 0.8710\n",
            "[0.335972261838913, 0.87096]\n"
          ],
          "name": "stdout"
        }
      ]
    },
    {
      "cell_type": "markdown",
      "metadata": {
        "id": "fhJnqBb1bh0-",
        "colab_type": "text"
      },
      "source": [
        "This is a fairly simple approach which achieves about 87% accuracy, the more advanced approaches will often yeild a 95% accuracy."
      ]
    },
    {
      "cell_type": "markdown",
      "metadata": {
        "id": "wX3uRPQAbwIw",
        "colab_type": "text"
      },
      "source": [
        "## Create a Graph\n",
        "> A graph of accuracy and loss over time\n",
        "**model.fit()**  returns a __History__ object that contains a dictionary with everything that happened during training:"
      ]
    },
    {
      "cell_type": "code",
      "metadata": {
        "id": "hxXtqLTdbfxA",
        "colab_type": "code",
        "colab": {
          "base_uri": "https://localhost:8080/",
          "height": 33
        },
        "outputId": "2b7e74ed-5766-448d-f133-09a2929ba10e"
      },
      "source": [
        "history_dict = history.history\n",
        "history_dict.keys()"
      ],
      "execution_count": 22,
      "outputs": [
        {
          "output_type": "execute_result",
          "data": {
            "text/plain": [
              "dict_keys(['loss', 'acc', 'val_loss', 'val_acc'])"
            ]
          },
          "metadata": {
            "tags": []
          },
          "execution_count": 22
        }
      ]
    },
    {
      "cell_type": "markdown",
      "metadata": {
        "id": "_rqBtpeFcKg7",
        "colab_type": "text"
      },
      "source": [
        "There are four entries, one for each monitored metric during training and validation. We can use these to plot the training and validation loss for comparison, as well as the training and validation accuracy."
      ]
    },
    {
      "cell_type": "code",
      "metadata": {
        "id": "kuP-dgBBcdXl",
        "colab_type": "code",
        "colab": {
          "base_uri": "https://localhost:8080/",
          "height": 295
        },
        "outputId": "db53a6de-4d77-45e3-b679-f2bd7bf3bc0d"
      },
      "source": [
        "import matplotlib.pyplot as plt\n",
        "\n",
        "acc = history_dict['acc']\n",
        "val_acc = history_dict['val_acc']\n",
        "loss = history_dict['loss']\n",
        "val_loss = history_dict['val_loss']\n",
        "\n",
        "epochs = range(1, len(acc) + 1)\n",
        "\n",
        "# \"bo\" is for \"blue dot\"\n",
        "plt.plot(epochs, loss, 'bo', label='Training loss')\n",
        "# b is for \"solid blue line\"\n",
        "plt.plot(epochs, val_loss, 'b', label='Validation loss')\n",
        "plt.title('Training and validation loss')\n",
        "plt.xlabel('Epochs')\n",
        "plt.ylabel('Loss')\n",
        "plt.legend()\n",
        "plt.show()"
      ],
      "execution_count": 26,
      "outputs": [
        {
          "output_type": "display_data",
          "data": {
            "image/png": "[encoded data removed]",
            "text/plain": [
              "<Figure size 432x288 with 1 Axes>"
            ]
          },
          "metadata": {
            "tags": []
          }
        }
      ]
    },
    {
      "cell_type": "code",
      "metadata": {
        "id": "2gSRZIvwcf1j",
        "colab_type": "code",
        "colab": {
          "base_uri": "https://localhost:8080/",
          "height": 295
        },
        "outputId": "2173eb90-0e85-4014-ca15-24d4aec48904"
      },
      "source": [
        "plt.clf()   # clear figure\n",
        "\n",
        "plt.plot(epochs, acc, 'bo', label='Training acc')\n",
        "plt.plot(epochs, val_acc, 'b', label='Validation acc')\n",
        "plt.title('Training and validation accuracy')\n",
        "plt.xlabel('Epochs')\n",
        "plt.ylabel('Accuracy')\n",
        "plt.legend()\n",
        "\n",
        "plt.show()\n"
      ],
      "execution_count": 24,
      "outputs": [
        {
          "output_type": "display_data",
          "data": {
            "image/png": "[encoded data removed]",
            "text/plain": [
              "<Figure size 432x288 with 1 Axes>"
            ]
          },
          "metadata": {
            "tags": []
          }
        }
      ]
    },
    {
      "cell_type": "markdown",
      "metadata": {
        "id": "MUgF-WvncwIz",
        "colab_type": "text"
      },
      "source": [
        "in this plot the dots represent the training loss and accuracy, and the solid lines are the validaton loss and accuracy.\n",
        "With each epoch loss decreases, this is expected when using descent optimiztion -  it should minimize the desired quantitity on every iteration.\n",
        "\n",
        "As i said earlyier you need to find the sweet spot for the epoch level, as you can see here the validation accuracy and loss peak at about 20 epochs. This is an example of _overfitting_ we setup too many epochs for what our method could handle and therefore the other 20 epochs were wasted computation and time. The model has over-optimized and learned representations that is only specific to the training data that does not generalize to test data. \n",
        "\n",
        "in this particular case, we could prevent overfitting simply by stoppping training after 20 epochs, which could be done automatically with a callback."
      ]
    },
    {
      "cell_type": "code",
      "metadata": {
        "id": "vplqkGjXd4cc",
        "colab_type": "code",
        "colab": {}
      },
      "source": [
        "#This is not my original work\n",
        "#\n",
        "#@title MIT License\n",
        "#\n",
        "# Copyright (c) 2017 François Chollet\n",
        "#\n",
        "# Permission is hereby granted, free of charge, to any person obtaining a\n",
        "# copy of this software and associated documentation files (the \"Software\"),\n",
        "# to deal in the Software without restriction, including without limitation\n",
        "# the rights to use, copy, modify, merge, publish, distribute, sublicense,\n",
        "# and/or sell copies of the Software, and to permit persons to whom the\n",
        "# Software is furnished to do so, subject to the following conditions:\n",
        "#\n",
        "# The above copyright notice and this permission notice shall be included in\n",
        "# all copies or substantial portions of the Software.\n",
        "#\n",
        "# THE SOFTWARE IS PROVIDED \"AS IS\", WITHOUT WARRANTY OF ANY KIND, EXPRESS OR\n",
        "# IMPLIED, INCLUDING BUT NOT LIMITED TO THE WARRANTIES OF MERCHANTABILITY,\n",
        "# FITNESS FOR A PARTICULAR PURPOSE AND NONINFRINGEMENT. IN NO EVENT SHALL\n",
        "# THE AUTHORS OR COPYRIGHT HOLDERS BE LIABLE FOR ANY CLAIM, DAMAGES OR OTHER\n",
        "# LIABILITY, WHETHER IN AN ACTION OF CONTRACT, TORT OR OTHERWISE, ARISING\n",
        "# FROM, OUT OF OR IN CONNECTION WITH THE SOFTWARE OR THE USE OR OTHER\n",
        "# DEALINGS IN THE SOFTWARE."
      ],
      "execution_count": 0,
      "outputs": []
    },
    {
      "cell_type": "code",
      "metadata": {
        "id": "VHi4aM2DeE0a",
        "colab_type": "code",
        "colab": {}
      },
      "source": [
        ""
      ],
      "execution_count": 0,
      "outputs": []
    }
  ]
}